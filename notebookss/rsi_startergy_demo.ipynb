{
 "cells": [
  {
   "cell_type": "code",
   "execution_count": null,
   "id": "4513f21b",
   "metadata": {
    "vscode": {
     "languageId": "plaintext"
    }
   },
   "outputs": [],
   "source": [
    "# RSI Strategy Demo\n",
    "\n",
    "import pandas as pd\n",
    "import numpy as np\n",
    "import matplotlib.pyplot as plt\n",
    "from examples.strategies.rsi_strategy import rsi_strategy\n",
    "\n",
    "# -------------------------\n",
    "# Generate fluctuating mock data\n",
    "# -------------------------\n",
    "np.random.seed(42)\n",
    "prices = pd.Series(100 + np.random.normal(0, 1, 100).cumsum())\n",
    "dates = pd.date_range('2024-01-01', periods=100)\n",
    "data = pd.DataFrame({'close': prices}, index=dates)\n",
    "\n",
    "# -------------------------\n",
    "# Apply strategy\n",
    "# -------------------------\n",
    "rsi_result = rsi_strategy(data, period=5, low_threshold=40, high_threshold=60)\n",
    "\n",
    "# -------------------------\n",
    "# Display first rows\n",
    "# -------------------------\n",
    "rsi_result.head(15)\n",
    "\n",
    "# -------------------------\n",
    "# Plot strategy\n",
    "# -------------------------\n",
    "fig, ax1 = plt.subplots(figsize=(12, 4))\n",
    "ax1.plot(rsi_result.index, rsi_result['close'], label='Price', color='blue')\n",
    "ax2 = ax1.twinx()\n",
    "ax2.plot(rsi_result.index, rsi_result['rsi'], label='RSI', color='orange')\n",
    "ax1.set_title('RSI Strategy')\n",
    "ax1.legend(loc='upper left')\n",
    "ax2.legend(loc='upper right')\n",
    "plt.show()\n"
   ]
  }
 ],
 "metadata": {
  "language_info": {
   "name": "python"
  }
 },
 "nbformat": 4,
 "nbformat_minor": 5
}
