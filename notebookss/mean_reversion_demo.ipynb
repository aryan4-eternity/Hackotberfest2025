{
 "cells": [
  {
   "cell_type": "code",
   "execution_count": null,
   "id": "2da8ac8e",
   "metadata": {
    "vscode": {
     "languageId": "plaintext"
    }
   },
   "outputs": [],
   "source": [
    "# Mean Reversion Strategy Demo\n",
    "\n",
    "import pandas as pd\n",
    "import numpy as np\n",
    "import matplotlib.pyplot as plt\n",
    "from examples.strategies.mean_reversion import mean_reversion\n",
    "\n",
    "# -------------------------\n",
    "# Generate fluctuating mock data\n",
    "# -------------------------\n",
    "np.random.seed(42)\n",
    "prices = pd.Series(100 + np.random.normal(0, 1, 100).cumsum())\n",
    "dates = pd.date_range('2024-01-01', periods=100)\n",
    "data = pd.DataFrame({'close': prices}, index=dates)\n",
    "\n",
    "# -------------------------\n",
    "# Apply strategy\n",
    "# -------------------------\n",
    "mr_result = mean_reversion(data, window=5, threshold=0.5)\n",
    "\n",
    "# -------------------------\n",
    "# Display first rows\n",
    "# -------------------------\n",
    "mr_result.head(15)\n",
    "\n",
    "# -------------------------\n",
    "# Plot strategy\n",
    "# -------------------------\n",
    "plt.figure(figsize=(12, 4))\n",
    "plt.plot(mr_result.index, mr_result['close'], label='Price')\n",
    "plt.plot(mr_result.index, mr_result['rolling_mean'], label='Rolling Mean')\n",
    "plt.title('Mean Reversion Strategy')\n",
    "plt.legend()\n",
    "plt.show()\n"
   ]
  }
 ],
 "metadata": {
  "language_info": {
   "name": "python"
  }
 },
 "nbformat": 4,
 "nbformat_minor": 5
}
