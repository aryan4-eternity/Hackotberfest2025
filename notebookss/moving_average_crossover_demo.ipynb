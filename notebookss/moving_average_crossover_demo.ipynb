{
 "cells": [
  {
   "cell_type": "code",
   "execution_count": null,
   "id": "4689c9c6",
   "metadata": {
    "vscode": {
     "languageId": "plaintext"
    }
   },
   "outputs": [],
   "source": [
    "# Moving Average Crossover Demo\n",
    "\n",
    "import pandas as pd\n",
    "import numpy as np\n",
    "import matplotlib.pyplot as plt\n",
    "from examples.strategies.moving_average_crossover import moving_average_crossover\n",
    "\n",
    "# -------------------------\n",
    "# Generate fluctuating mock data\n",
    "# -------------------------\n",
    "np.random.seed(42)\n",
    "prices = pd.Series(100 + np.random.normal(0, 1, 100).cumsum())\n",
    "dates = pd.date_range('2024-01-01', periods=100)\n",
    "data = pd.DataFrame({'close': prices}, index=dates)\n",
    "\n",
    "# -------------------------\n",
    "# Apply strategy\n",
    "# -------------------------\n",
    "ma_result = moving_average_crossover(data, short_window=5, long_window=10)\n",
    "\n",
    "# -------------------------\n",
    "# Display first rows\n",
    "# -------------------------\n",
    "ma_result.head(15)\n",
    "\n",
    "# -------------------------\n",
    "# Plot strategy\n",
    "# -------------------------\n",
    "plt.figure(figsize=(12, 4))\n",
    "plt.plot(ma_result.index, ma_result['close'], label='Price')\n",
    "plt.plot(ma_result.index, ma_result['short_ma'], label='Short MA')\n",
    "plt.plot(ma_result.index, ma_result['long_ma'], label='Long MA')\n",
    "plt.title('Moving Average Crossover Strategy')\n",
    "plt.legend()\n",
    "plt.show()\n"
   ]
  }
 ],
 "metadata": {
  "language_info": {
   "name": "python"
  }
 },
 "nbformat": 4,
 "nbformat_minor": 5
}
